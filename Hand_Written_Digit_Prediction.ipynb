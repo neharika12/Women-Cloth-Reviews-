{
  "metadata": {
    "colab": {
      "provenance": [],
      "include_colab_link": true
    },
    "kernelspec": {
      "name": "python3",
      "display_name": "Python 3",
      "language": "python"
    },
    "language_info": {
      "name": "python",
      "version": "3.10.12",
      "mimetype": "text/x-python",
      "codemirror_mode": {
        "name": "ipython",
        "version": 3
      },
      "pygments_lexer": "ipython3",
      "nbconvert_exporter": "python",
      "file_extension": ".py"
    }
  },
  "nbformat_minor": 0,
  "nbformat": 4,
  "cells": [
    {
      "cell_type": "markdown",
      "metadata": {
        "id": "view-in-github",
        "colab_type": "text"
      },
      "source": [
        "<a href=\"https://colab.research.google.com/github/neharika12/Women-Cloth-Reviews-/blob/main/Hand_Written_Digit_Prediction.ipynb\" target=\"_parent\"><img src=\"https://colab.research.google.com/assets/colab-badge.svg\" alt=\"Open In Colab\"/></a>"
      ]
    },
    {
      "cell_type": "markdown",
      "source": [
        "# **Title of Project** : Hand Written Digit Prediction - Classification\n",
        "---"
      ],
      "metadata": {
        "id": "FCMWiduTGmdB"
      }
    },
    {
      "cell_type": "markdown",
      "source": [
        "### **OBJECTIVE** :\n",
        ">The digits dataset consist of 8x8 pixel images of digits. The images attribute of the dataset stores 8x8 arrays of grayscale values for each image. We will use these arrays to visualize the first 4 images. The target attribute of the dataset stores the digit each image represents."
      ],
      "metadata": {
        "id": "aUsmPBiKHB7S"
      }
    },
    {
      "cell_type": "markdown",
      "source": [
        "## **Data Source**:\n",
        ">YBI Foundation DatataSet"
      ],
      "metadata": {
        "id": "FsDmFBEpmgEA"
      }
    },
    {
      "cell_type": "markdown",
      "source": [
        "# Import Library"
      ],
      "metadata": {
        "id": "GtLkTf-MYOvz"
      }
    },
    {
      "cell_type": "code",
      "source": [
        "import pandas as pd\n",
        "import numpy as np\n",
        "import matplotlib.pyplot as plt"
      ],
      "metadata": {
        "id": "hdsrFu0KFoYw",
        "execution": {
          "iopub.status.busy": "2023-09-12T13:51:20.063014Z",
          "iopub.execute_input": "2023-09-12T13:51:20.06354Z",
          "iopub.status.idle": "2023-09-12T13:51:20.574133Z",
          "shell.execute_reply.started": "2023-09-12T13:51:20.063497Z",
          "shell.execute_reply": "2023-09-12T13:51:20.57257Z"
        },
        "trusted": true
      },
      "execution_count": null,
      "outputs": []
    },
    {
      "cell_type": "markdown",
      "source": [
        "#Import Data"
      ],
      "metadata": {
        "id": "6JzAaq3IYfh9"
      }
    },
    {
      "cell_type": "code",
      "source": [
        "from sklearn.datasets import load_digits\n",
        "df = load_digits()\n"
      ],
      "metadata": {
        "id": "taf2h_ZhYcXZ",
        "execution": {
          "iopub.status.busy": "2023-09-12T13:51:20.577388Z",
          "iopub.execute_input": "2023-09-12T13:51:20.578341Z",
          "iopub.status.idle": "2023-09-12T13:51:22.163869Z",
          "shell.execute_reply.started": "2023-09-12T13:51:20.578279Z",
          "shell.execute_reply": "2023-09-12T13:51:22.162683Z"
        },
        "trusted": true
      },
      "execution_count": null,
      "outputs": []
    },
    {
      "cell_type": "markdown",
      "source": [
        "# Describe Data"
      ],
      "metadata": {
        "id": "pEdKXOJNngD0"
      }
    },
    {
      "cell_type": "code",
      "source": [
        "print(df.images)"
      ],
      "metadata": {
        "id": "izF14XTLngYd",
        "execution": {
          "iopub.status.busy": "2023-09-12T13:51:22.165671Z",
          "iopub.execute_input": "2023-09-12T13:51:22.166311Z",
          "iopub.status.idle": "2023-09-12T13:51:22.177828Z",
          "shell.execute_reply.started": "2023-09-12T13:51:22.166277Z",
          "shell.execute_reply": "2023-09-12T13:51:22.176473Z"
        },
        "trusted": true
      },
      "execution_count": null,
      "outputs": []
    },
    {
      "cell_type": "code",
      "source": [
        "# Print description\n",
        "print(df.DESCR)"
      ],
      "metadata": {
        "id": "tW5rVMe4nSL9",
        "execution": {
          "iopub.status.busy": "2023-09-12T13:51:22.180896Z",
          "iopub.execute_input": "2023-09-12T13:51:22.181341Z",
          "iopub.status.idle": "2023-09-12T13:51:22.188128Z",
          "shell.execute_reply.started": "2023-09-12T13:51:22.181302Z",
          "shell.execute_reply": "2023-09-12T13:51:22.18685Z"
        },
        "trusted": true
      },
      "execution_count": null,
      "outputs": []
    },
    {
      "cell_type": "code",
      "source": [
        "# Print the number of images and labels\n",
        "print(\"Images shape: \", df.images.shape)\n",
        "print(\"Target shape: \", df.target.shape)"
      ],
      "metadata": {
        "id": "VXOZmjPynuje",
        "execution": {
          "iopub.status.busy": "2023-09-12T13:51:22.18985Z",
          "iopub.execute_input": "2023-09-12T13:51:22.190705Z",
          "iopub.status.idle": "2023-09-12T13:51:22.201283Z",
          "shell.execute_reply.started": "2023-09-12T13:51:22.190671Z",
          "shell.execute_reply": "2023-09-12T13:51:22.200179Z"
        },
        "trusted": true
      },
      "execution_count": null,
      "outputs": []
    },
    {
      "cell_type": "markdown",
      "source": [
        "# Data Visualization"
      ],
      "metadata": {
        "id": "UUt9TNE-oEvR"
      }
    },
    {
      "cell_type": "code",
      "source": [
        "# Visualize some images\n",
        "plt.figure(figsize=(10, 10))\n",
        "\n",
        "for i in range(25):\n",
        "    plt.subplot(5, 5, i+1)\n",
        "    plt.xticks([])\n",
        "    plt.yticks([])\n",
        "    plt.grid(False)\n",
        "    plt.imshow(df.images[i], cmap=plt.cm.binary)\n",
        "    plt.xlabel(df.target[i])\n",
        "plt.show()"
      ],
      "metadata": {
        "id": "JynyUYsinyM9",
        "execution": {
          "iopub.status.busy": "2023-09-12T13:51:22.203046Z",
          "iopub.execute_input": "2023-09-12T13:51:22.203773Z",
          "iopub.status.idle": "2023-09-12T13:51:23.724859Z",
          "shell.execute_reply.started": "2023-09-12T13:51:22.20374Z",
          "shell.execute_reply": "2023-09-12T13:51:23.723742Z"
        },
        "trusted": true
      },
      "execution_count": null,
      "outputs": []
    },
    {
      "cell_type": "markdown",
      "source": [
        "#Data Preprocessing"
      ],
      "metadata": {
        "id": "S8Py1k6FaP_k"
      }
    },
    {
      "cell_type": "code",
      "source": [
        "df.images.shape"
      ],
      "metadata": {
        "id": "4_ITyb_HZuc6",
        "execution": {
          "iopub.status.busy": "2023-09-12T13:51:23.726372Z",
          "iopub.execute_input": "2023-09-12T13:51:23.726885Z",
          "iopub.status.idle": "2023-09-12T13:51:23.733845Z",
          "shell.execute_reply.started": "2023-09-12T13:51:23.726855Z",
          "shell.execute_reply": "2023-09-12T13:51:23.732659Z"
        },
        "trusted": true
      },
      "execution_count": null,
      "outputs": []
    },
    {
      "cell_type": "code",
      "source": [
        "df.images[0]"
      ],
      "metadata": {
        "id": "5_z31YQwaeZk",
        "execution": {
          "iopub.status.busy": "2023-09-12T13:51:23.735618Z",
          "iopub.execute_input": "2023-09-12T13:51:23.736042Z",
          "iopub.status.idle": "2023-09-12T13:51:23.761445Z",
          "shell.execute_reply.started": "2023-09-12T13:51:23.736002Z",
          "shell.execute_reply": "2023-09-12T13:51:23.760263Z"
        },
        "trusted": true
      },
      "execution_count": null,
      "outputs": []
    },
    {
      "cell_type": "code",
      "source": [
        "df.images[0].shape"
      ],
      "metadata": {
        "id": "6SV8C8eaahLE",
        "execution": {
          "iopub.status.busy": "2023-09-12T13:51:23.763012Z",
          "iopub.execute_input": "2023-09-12T13:51:23.764014Z",
          "iopub.status.idle": "2023-09-12T13:51:23.782207Z",
          "shell.execute_reply.started": "2023-09-12T13:51:23.763964Z",
          "shell.execute_reply": "2023-09-12T13:51:23.781037Z"
        },
        "trusted": true
      },
      "execution_count": null,
      "outputs": []
    },
    {
      "cell_type": "code",
      "source": [
        "len(df.images)"
      ],
      "metadata": {
        "id": "W_IrPUW4auLt",
        "execution": {
          "iopub.status.busy": "2023-09-12T13:51:23.788511Z",
          "iopub.execute_input": "2023-09-12T13:51:23.790953Z",
          "iopub.status.idle": "2023-09-12T13:51:23.79833Z",
          "shell.execute_reply.started": "2023-09-12T13:51:23.790902Z",
          "shell.execute_reply": "2023-09-12T13:51:23.797169Z"
        },
        "trusted": true
      },
      "execution_count": null,
      "outputs": []
    },
    {
      "cell_type": "code",
      "source": [
        "n_samples = len(df.images)\n",
        "data = df.images.reshape((n_samples, -1))"
      ],
      "metadata": {
        "id": "nNim8QDBazl1",
        "execution": {
          "iopub.status.busy": "2023-09-12T13:51:23.79979Z",
          "iopub.execute_input": "2023-09-12T13:51:23.800533Z",
          "iopub.status.idle": "2023-09-12T13:51:23.809291Z",
          "shell.execute_reply.started": "2023-09-12T13:51:23.800493Z",
          "shell.execute_reply": "2023-09-12T13:51:23.807974Z"
        },
        "trusted": true
      },
      "execution_count": null,
      "outputs": []
    },
    {
      "cell_type": "code",
      "source": [
        "data[0]"
      ],
      "metadata": {
        "id": "RmPQWMrsbF5P",
        "execution": {
          "iopub.status.busy": "2023-09-12T13:51:23.8112Z",
          "iopub.execute_input": "2023-09-12T13:51:23.811985Z",
          "iopub.status.idle": "2023-09-12T13:51:23.824379Z",
          "shell.execute_reply.started": "2023-09-12T13:51:23.811944Z",
          "shell.execute_reply": "2023-09-12T13:51:23.823097Z"
        },
        "trusted": true
      },
      "execution_count": null,
      "outputs": []
    },
    {
      "cell_type": "code",
      "source": [
        "data[0].shape"
      ],
      "metadata": {
        "id": "ml36i-5ObIGQ",
        "execution": {
          "iopub.status.busy": "2023-09-12T13:51:23.826473Z",
          "iopub.execute_input": "2023-09-12T13:51:23.827317Z",
          "iopub.status.idle": "2023-09-12T13:51:23.838944Z",
          "shell.execute_reply.started": "2023-09-12T13:51:23.827273Z",
          "shell.execute_reply": "2023-09-12T13:51:23.83767Z"
        },
        "trusted": true
      },
      "execution_count": null,
      "outputs": []
    },
    {
      "cell_type": "code",
      "source": [
        "data.shape"
      ],
      "metadata": {
        "id": "865CYD49bLg8",
        "execution": {
          "iopub.status.busy": "2023-09-12T13:51:23.840486Z",
          "iopub.execute_input": "2023-09-12T13:51:23.842212Z",
          "iopub.status.idle": "2023-09-12T13:51:23.852776Z",
          "shell.execute_reply.started": "2023-09-12T13:51:23.842166Z",
          "shell.execute_reply": "2023-09-12T13:51:23.851422Z"
        },
        "trusted": true
      },
      "execution_count": null,
      "outputs": []
    },
    {
      "cell_type": "markdown",
      "source": [
        "#Scaling Image Data"
      ],
      "metadata": {
        "id": "EQvj6LJjbQi6"
      }
    },
    {
      "cell_type": "code",
      "source": [
        "data.min()"
      ],
      "metadata": {
        "id": "74BpsAzebNR2",
        "execution": {
          "iopub.status.busy": "2023-09-12T13:51:23.854424Z",
          "iopub.execute_input": "2023-09-12T13:51:23.855192Z",
          "iopub.status.idle": "2023-09-12T13:51:23.867186Z",
          "shell.execute_reply.started": "2023-09-12T13:51:23.855148Z",
          "shell.execute_reply": "2023-09-12T13:51:23.866023Z"
        },
        "trusted": true
      },
      "execution_count": null,
      "outputs": []
    },
    {
      "cell_type": "code",
      "source": [
        "data.max()"
      ],
      "metadata": {
        "id": "lnYyy4k2bVss",
        "execution": {
          "iopub.status.busy": "2023-09-12T13:51:23.868739Z",
          "iopub.execute_input": "2023-09-12T13:51:23.869873Z",
          "iopub.status.idle": "2023-09-12T13:51:23.882539Z",
          "shell.execute_reply.started": "2023-09-12T13:51:23.869831Z",
          "shell.execute_reply": "2023-09-12T13:51:23.881136Z"
        },
        "trusted": true
      },
      "execution_count": null,
      "outputs": []
    },
    {
      "cell_type": "code",
      "source": [
        "data = data/16"
      ],
      "metadata": {
        "id": "QNQD149qbXYx",
        "execution": {
          "iopub.status.busy": "2023-09-12T13:51:23.884204Z",
          "iopub.execute_input": "2023-09-12T13:51:23.884864Z",
          "iopub.status.idle": "2023-09-12T13:51:23.894162Z",
          "shell.execute_reply.started": "2023-09-12T13:51:23.884826Z",
          "shell.execute_reply": "2023-09-12T13:51:23.892928Z"
        },
        "trusted": true
      },
      "execution_count": null,
      "outputs": []
    },
    {
      "cell_type": "code",
      "source": [
        "data.min()"
      ],
      "metadata": {
        "id": "T1GLNU9GbaQe",
        "execution": {
          "iopub.status.busy": "2023-09-12T13:51:23.895746Z",
          "iopub.execute_input": "2023-09-12T13:51:23.896372Z",
          "iopub.status.idle": "2023-09-12T13:51:23.910103Z",
          "shell.execute_reply.started": "2023-09-12T13:51:23.896334Z",
          "shell.execute_reply": "2023-09-12T13:51:23.908949Z"
        },
        "trusted": true
      },
      "execution_count": null,
      "outputs": []
    },
    {
      "cell_type": "code",
      "source": [
        "data.max()"
      ],
      "metadata": {
        "id": "d1AcASwZbdZ9",
        "execution": {
          "iopub.status.busy": "2023-09-12T13:51:23.911998Z",
          "iopub.execute_input": "2023-09-12T13:51:23.912707Z",
          "iopub.status.idle": "2023-09-12T13:51:23.923022Z",
          "shell.execute_reply.started": "2023-09-12T13:51:23.91265Z",
          "shell.execute_reply": "2023-09-12T13:51:23.921677Z"
        },
        "trusted": true
      },
      "execution_count": null,
      "outputs": []
    },
    {
      "cell_type": "code",
      "source": [
        "data[0]"
      ],
      "metadata": {
        "id": "dCkl3uasbe9_",
        "execution": {
          "iopub.status.busy": "2023-09-12T13:51:23.925002Z",
          "iopub.execute_input": "2023-09-12T13:51:23.925771Z",
          "iopub.status.idle": "2023-09-12T13:51:23.937386Z",
          "shell.execute_reply.started": "2023-09-12T13:51:23.925732Z",
          "shell.execute_reply": "2023-09-12T13:51:23.936064Z"
        },
        "trusted": true
      },
      "execution_count": null,
      "outputs": []
    },
    {
      "cell_type": "markdown",
      "source": [
        "#Train Test Split Data"
      ],
      "metadata": {
        "id": "YMMbazQCbi7H"
      }
    },
    {
      "cell_type": "code",
      "source": [
        "from sklearn.model_selection import train_test_split"
      ],
      "metadata": {
        "id": "b7G4knUZbgf5",
        "execution": {
          "iopub.status.busy": "2023-09-12T13:51:23.939407Z",
          "iopub.execute_input": "2023-09-12T13:51:23.94017Z",
          "iopub.status.idle": "2023-09-12T13:51:24.055279Z",
          "shell.execute_reply.started": "2023-09-12T13:51:23.940129Z",
          "shell.execute_reply": "2023-09-12T13:51:24.054153Z"
        },
        "trusted": true
      },
      "execution_count": null,
      "outputs": []
    },
    {
      "cell_type": "code",
      "source": [
        "X_train, X_test, y_train, y_test = train_test_split(data, df.target, test_size=0.3)"
      ],
      "metadata": {
        "id": "0_eHZT1EbyYq",
        "execution": {
          "iopub.status.busy": "2023-09-12T13:51:24.060672Z",
          "iopub.execute_input": "2023-09-12T13:51:24.061511Z",
          "iopub.status.idle": "2023-09-12T13:51:24.068851Z",
          "shell.execute_reply.started": "2023-09-12T13:51:24.061469Z",
          "shell.execute_reply": "2023-09-12T13:51:24.067383Z"
        },
        "trusted": true
      },
      "execution_count": null,
      "outputs": []
    },
    {
      "cell_type": "code",
      "source": [
        "X_train.shape, X_test.shape, y_train.shape, y_test.shape"
      ],
      "metadata": {
        "id": "6UR_8Y1PcIT2",
        "execution": {
          "iopub.status.busy": "2023-09-12T13:51:24.070384Z",
          "iopub.execute_input": "2023-09-12T13:51:24.07091Z",
          "iopub.status.idle": "2023-09-12T13:51:24.084253Z",
          "shell.execute_reply.started": "2023-09-12T13:51:24.070868Z",
          "shell.execute_reply": "2023-09-12T13:51:24.082958Z"
        },
        "trusted": true
      },
      "execution_count": null,
      "outputs": []
    },
    {
      "cell_type": "markdown",
      "source": [
        "# Random Forest Model"
      ],
      "metadata": {
        "id": "0yQ3VmIxcf5r"
      }
    },
    {
      "cell_type": "code",
      "source": [
        "from sklearn.ensemble import RandomForestClassifier"
      ],
      "metadata": {
        "id": "zFS8s2XZcY-u",
        "execution": {
          "iopub.status.busy": "2023-09-12T13:51:24.086062Z",
          "iopub.execute_input": "2023-09-12T13:51:24.086573Z",
          "iopub.status.idle": "2023-09-12T13:51:24.528391Z",
          "shell.execute_reply.started": "2023-09-12T13:51:24.086542Z",
          "shell.execute_reply": "2023-09-12T13:51:24.526409Z"
        },
        "trusted": true
      },
      "execution_count": null,
      "outputs": []
    },
    {
      "cell_type": "code",
      "source": [
        "rf = RandomForestClassifier()"
      ],
      "metadata": {
        "id": "MokRn-8jcuKX",
        "execution": {
          "iopub.status.busy": "2023-09-12T13:51:24.531175Z",
          "iopub.execute_input": "2023-09-12T13:51:24.531856Z",
          "iopub.status.idle": "2023-09-12T13:51:24.541002Z",
          "shell.execute_reply.started": "2023-09-12T13:51:24.531799Z",
          "shell.execute_reply": "2023-09-12T13:51:24.539122Z"
        },
        "trusted": true
      },
      "execution_count": null,
      "outputs": []
    },
    {
      "cell_type": "code",
      "source": [
        "rf.fit(X_train, y_train)"
      ],
      "metadata": {
        "id": "CDjCLqIKc0VS",
        "execution": {
          "iopub.status.busy": "2023-09-12T13:51:24.543994Z",
          "iopub.execute_input": "2023-09-12T13:51:24.544676Z",
          "iopub.status.idle": "2023-09-12T13:51:25.053847Z",
          "shell.execute_reply.started": "2023-09-12T13:51:24.544609Z",
          "shell.execute_reply": "2023-09-12T13:51:25.052607Z"
        },
        "trusted": true
      },
      "execution_count": null,
      "outputs": []
    },
    {
      "cell_type": "markdown",
      "source": [
        "# Predict Test Data"
      ],
      "metadata": {
        "id": "xuYqq1Sfc-5k"
      }
    },
    {
      "cell_type": "code",
      "source": [
        "y_pred = rf.predict(X_test)"
      ],
      "metadata": {
        "id": "AoNDiK96c6Zh",
        "execution": {
          "iopub.status.busy": "2023-09-12T13:51:25.055866Z",
          "iopub.execute_input": "2023-09-12T13:51:25.056319Z",
          "iopub.status.idle": "2023-09-12T13:51:25.08445Z",
          "shell.execute_reply.started": "2023-09-12T13:51:25.056276Z",
          "shell.execute_reply": "2023-09-12T13:51:25.083195Z"
        },
        "trusted": true
      },
      "execution_count": null,
      "outputs": []
    },
    {
      "cell_type": "code",
      "source": [
        "y_pred"
      ],
      "metadata": {
        "id": "rhMF7xQddHld",
        "execution": {
          "iopub.status.busy": "2023-09-12T13:51:25.089744Z",
          "iopub.execute_input": "2023-09-12T13:51:25.090157Z",
          "iopub.status.idle": "2023-09-12T13:51:25.099692Z",
          "shell.execute_reply.started": "2023-09-12T13:51:25.090124Z",
          "shell.execute_reply": "2023-09-12T13:51:25.098101Z"
        },
        "trusted": true
      },
      "execution_count": null,
      "outputs": []
    },
    {
      "cell_type": "markdown",
      "source": [
        "# Model Evaluation"
      ],
      "metadata": {
        "id": "qcpzWEhhdQqO"
      }
    },
    {
      "cell_type": "code",
      "source": [
        "from sklearn.metrics import confusion_matrix, classification_report"
      ],
      "metadata": {
        "id": "xRncyfSFdJW7",
        "execution": {
          "iopub.status.busy": "2023-09-12T13:51:25.104563Z",
          "iopub.execute_input": "2023-09-12T13:51:25.105305Z",
          "iopub.status.idle": "2023-09-12T13:51:25.114486Z",
          "shell.execute_reply.started": "2023-09-12T13:51:25.105269Z",
          "shell.execute_reply": "2023-09-12T13:51:25.113691Z"
        },
        "trusted": true
      },
      "execution_count": null,
      "outputs": []
    },
    {
      "cell_type": "code",
      "source": [
        "confusion_matrix(y_test, y_pred)"
      ],
      "metadata": {
        "id": "_qY05NkFdeot",
        "execution": {
          "iopub.status.busy": "2023-09-12T13:51:25.115728Z",
          "iopub.execute_input": "2023-09-12T13:51:25.116619Z",
          "iopub.status.idle": "2023-09-12T13:51:25.131572Z",
          "shell.execute_reply.started": "2023-09-12T13:51:25.116569Z",
          "shell.execute_reply": "2023-09-12T13:51:25.130304Z"
        },
        "trusted": true
      },
      "execution_count": null,
      "outputs": []
    },
    {
      "cell_type": "code",
      "source": [
        "print (classification_report(y_test, y_pred))"
      ],
      "metadata": {
        "id": "7wP4hF9Bdkuz",
        "execution": {
          "iopub.status.busy": "2023-09-12T13:51:25.133228Z",
          "iopub.execute_input": "2023-09-12T13:51:25.13387Z",
          "iopub.status.idle": "2023-09-12T13:51:25.152355Z",
          "shell.execute_reply.started": "2023-09-12T13:51:25.133835Z",
          "shell.execute_reply": "2023-09-12T13:51:25.150958Z"
        },
        "trusted": true
      },
      "execution_count": null,
      "outputs": []
    },
    {
      "cell_type": "markdown",
      "source": [
        "# Explaination\n",
        "---\n",
        "1. **Confusion Matrix**: The confusion matrix is a table that is often used to describe the performance of a classification model (or \"classifier\") on a set of test data for which the true values are known.\n",
        "    \n",
        "    In this case, the confusion matrix looks like this:\n",
        "    \n",
        "    ```\n",
        "    [[47,  0,  0,  0,  1,  0,  0,  0,  0,  0],\n",
        "     [ 0, 50, ... ],\n",
        "     ...\n",
        "     [ ..., ..., ..., ..., ..., ..., ..., ..., ..., ..., ,46]]\n",
        "    ```\n",
        "    \n",
        "    This is a `10x10` matrix because there are `10` classes. The rows represent the actual class and the columns represent the predicted class.\n",
        "    \n",
        "    The diagonal elements represent the number of points for which the predicted label is equal to the true label. So for example `47` at position `(0,0)` indicates that there are `47` instances where the actual output was `0` and the model also correctly predicted them as `0`.\n",
        "    \n",
        "2. **Classification Report**: This report displays the precision, recall, F1 score and support for each class.\n",
        "    \n",
        "    - **Precision** is defined as: (True Positives)/(True Positives + False Positives). It represents how many of our model's positive predictions were actually positive.\n",
        "        \n",
        "    - **Recall** (also known as sensitivity) is defined as: (True Positives)/(True Positives + False Negatives). It represents how many of all actual positives were correctly identified by our model.\n",
        "        \n",
        "    - **F1-score** is a weighted harmonic mean of precision and recall such that the best score is `1.0` and worst score is `0`.\n",
        "        \n",
        "    - **Support** refers to number of occurrences of each given class in `y_true` ( actual test set labels).\n",
        "        \n",
        "    \n",
        "    The 'macro average' is the average of metric calculated independently for each class then taking the average. The 'weighted average' calculates metrics for each label, and finds their average weighted by support (the number of true instances for each label).\n",
        "    \n",
        "\n",
        "In this case, the classification report suggests that the model is performing well across all classes with an overall accuracy of `96%`. The precision, recall and f1-score are also quite high (`>= 90%`) for all classes which indicates a good fit."
      ],
      "metadata": {
        "id": "HWWxFCbeove-"
      }
    }
  ]
}